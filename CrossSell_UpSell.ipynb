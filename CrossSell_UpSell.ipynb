{
 "cells": [
  {
   "cell_type": "markdown",
   "id": "d99c2436",
   "metadata": {},
   "source": [
    "## CrossSell\n",
    "Cross-sell involves the sale of multiple products offered by a single product/service provider to a new or existing customer. You plan to purchase a mobile phone worth Rs. 30,000(~$500), but the salesman offered you a charming deal of buying mobile phone with exclusive JBL headphones for Rs.40,000 only and you again got swayed away. (This is Cross-Selling)."
   ]
  },
  {
   "cell_type": "markdown",
   "id": "7f475341",
   "metadata": {},
   "source": [
    "## Upsell\n",
    "Up-sell is selling higher value products/services to an existing customer.\n",
    "You plan to purchase a mobile phone within a price range of Rs. 30,000. However, you eventually end up purchasing a mobile phone of Rs.42,000 ($650) because the salesman presented various other phones with fantastic features and you got swayed away with them. (This is Up-Selling)."
   ]
  },
  {
   "cell_type": "code",
   "execution_count": null,
   "id": "8ee8792e",
   "metadata": {},
   "outputs": [],
   "source": []
  }
 ],
 "metadata": {
  "kernelspec": {
   "display_name": "Python 3",
   "language": "python",
   "name": "python3"
  },
  "language_info": {
   "codemirror_mode": {
    "name": "ipython",
    "version": 3
   },
   "file_extension": ".py",
   "mimetype": "text/x-python",
   "name": "python",
   "nbconvert_exporter": "python",
   "pygments_lexer": "ipython3",
   "version": "3.6.9"
  }
 },
 "nbformat": 4,
 "nbformat_minor": 5
}
